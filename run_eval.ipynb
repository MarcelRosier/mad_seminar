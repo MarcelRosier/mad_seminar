{
 "cells": [
  {
   "cell_type": "code",
   "execution_count": 1,
   "metadata": {},
   "outputs": [
    {
     "name": "stderr",
     "output_type": "stream",
     "text": [
      "Global seed set to 42\n"
     ]
    },
    {
     "name": "stdout",
     "output_type": "stream",
     "text": [
      "img_csv='./data/splits/absent_septum.csv' \n",
      " len(self.img_paths)=1\n",
      "img_csv='./data/splits/artefacts.csv' \n",
      " len(self.img_paths)=16\n",
      "img_csv='./data/splits/craniatomy.csv' \n",
      " len(self.img_paths)=15\n",
      "img_csv='./data/splits/dural.csv' \n",
      " len(self.img_paths)=7\n",
      "img_csv='./data/splits/ea_mass.csv' \n",
      " len(self.img_paths)=4\n",
      "img_csv='./data/splits/edema.csv' \n",
      " len(self.img_paths)=18\n",
      "img_csv='./data/splits/encephalomalacia.csv' \n",
      " len(self.img_paths)=1\n",
      "img_csv='./data/splits/enlarged_ventricles.csv' \n",
      " len(self.img_paths)=19\n",
      "img_csv='./data/splits/intraventricular.csv' \n",
      " len(self.img_paths)=1\n",
      "img_csv='./data/splits/lesions.csv' \n",
      " len(self.img_paths)=22\n",
      "img_csv='./data/splits/mass.csv' \n",
      " len(self.img_paths)=22\n",
      "img_csv='./data/splits/posttreatment.csv' \n",
      " len(self.img_paths)=44\n",
      "img_csv='./data/splits/resection.csv' \n",
      " len(self.img_paths)=10\n",
      "img_csv='./data/splits/sinus.csv' \n",
      " len(self.img_paths)=2\n",
      "img_csv='./data/splits/wml.csv' \n",
      " len(self.img_paths)=5\n",
      "img_csv='./data/splits/other.csv' \n",
      " len(self.img_paths)=5\n"
     ]
    }
   ],
   "source": [
    "import matplotlib.pyplot as plt\n",
    "import pytorch_lightning as pl\n",
    "import torch\n",
    "import yaml\n",
    "\n",
    "from model.model import get_model\n",
    "from data_loader import TrainDataModule, get_all_test_dataloaders, get_normal_test_dataloader\n",
    "\n",
    "# autoreload imported modules\n",
    "%load_ext autoreload\n",
    "%autoreload 2\n",
    "%matplotlib inline\n",
    "\n",
    "\n",
    "# with open(\"./configs/ganomaly_config.yaml\", \"r\") as f:\n",
    "with open(\"./configs/ganomaly_config.yaml\", \"r\") as f:\n",
    "    config = yaml.safe_load(f)\n",
    "\n",
    "# Reproducibility\n",
    "pl.seed_everything(config[\"seed\"])\n",
    "\n",
    "test_dataloaders = get_all_test_dataloaders(config['split_dir'], config['target_size'], config['batch_size'])"
   ]
  },
  {
   "cell_type": "code",
   "execution_count": 2,
   "metadata": {},
   "outputs": [
    {
     "name": "stdout",
     "output_type": "stream",
     "text": [
      "Loading model ganomaly\n"
     ]
    },
    {
     "data": {
      "text/plain": [
       "<All keys matched successfully>"
      ]
     },
     "execution_count": 2,
     "metadata": {},
     "output_type": "execute_result"
    }
   ],
   "source": [
    "# load model from checkpit\n",
    "from model.ganomaly.lightning_model import Ganomaly\n",
    "\n",
    "\n",
    "model = get_model(config)\n",
    "# Specify the path to your checkpoint file\n",
    "checkpoint_path = '/home/marcel/Projects/uni/mad_seminar/lightning_logs/version_14/checkpoints/epoch=149-step=6900.ckpt'\n",
    "\n",
    "# Initialize the model by loading from the checkpoint\n",
    "model.load_state_dict(torch.load(checkpoint_path)['state_dict'])\n"
   ]
  },
  {
   "cell_type": "code",
   "execution_count": 20,
   "metadata": {},
   "outputs": [
    {
     "name": "stdout",
     "output_type": "stream",
     "text": [
      "img_csv='./data/splits/normal_test.csv' \n",
      " len(self.img_paths)=30\n"
     ]
    },
    {
     "data": {
      "text/html": [
       "<pre style=\"white-space:pre;overflow-x:auto;line-height:normal;font-family:Menlo,'DejaVu Sans Mono',consolas,'Courier New',monospace\"><span style=\"font-style: italic\">                    Statistics of Anomaly Scores per categroy                    </span>\n",
       "┏━━━━━━━━━━━━━━━━━━━━━┳━━━━━━━━━┳━━━━━━━━━┳━━━━━━━━┳━━━━━━┳━━━━━━━━━━┳━━━━━━━━━━┓\n",
       "┃<span style=\"font-weight: bold\"> Pathology           </span>┃<span style=\"font-weight: bold\"> Minimum </span>┃<span style=\"font-weight: bold\"> Maximum </span>┃<span style=\"font-weight: bold\"> Median </span>┃<span style=\"font-weight: bold\"> Mean </span>┃<span style=\"font-weight: bold\"> Variance </span>┃<span style=\"font-weight: bold\"> #Samples </span>┃\n",
       "┡━━━━━━━━━━━━━━━━━━━━━╇━━━━━━━━━╇━━━━━━━━━╇━━━━━━━━╇━━━━━━╇━━━━━━━━━━╇━━━━━━━━━━┩\n",
       "│ absent_septum       │    0.67 │    0.67 │   0.67 │ 0.67 │     0.00 │        1 │\n",
       "│ artefacts           │    0.24 │    0.68 │   0.35 │ 0.36 │     0.01 │       16 │\n",
       "│ craniatomy          │    0.22 │    2.39 │   0.50 │ 0.63 │     0.25 │       15 │\n",
       "│ dural               │    0.21 │    1.10 │   0.67 │ 0.63 │     0.10 │        7 │\n",
       "│ ea_mass             │    0.61 │    1.11 │   1.07 │ 0.97 │     0.04 │        4 │\n",
       "│ edema               │    0.31 │    3.63 │   0.58 │ 0.76 │     0.51 │       18 │\n",
       "│ encephalomalacia    │    2.32 │    2.32 │   2.32 │ 2.32 │     0.00 │        1 │\n",
       "│ enlarged_ventricles │    0.27 │    2.26 │   0.49 │ 0.73 │     0.35 │       19 │\n",
       "│ intraventricular    │    0.63 │    0.63 │   0.63 │ 0.63 │     0.00 │        1 │\n",
       "│ lesions             │    0.28 │    1.14 │   0.42 │ 0.56 │     0.08 │       22 │\n",
       "│ mass                │    0.35 │    1.15 │   0.54 │ 0.62 │     0.06 │       22 │\n",
       "│ posttreatment       │    0.24 │    3.32 │   0.47 │ 0.54 │     0.22 │       44 │\n",
       "│ resection           │    0.29 │    2.30 │   0.73 │ 0.98 │     0.52 │       10 │\n",
       "│ sinus               │    0.32 │    0.88 │   0.60 │ 0.60 │     0.08 │        2 │\n",
       "│ wml                 │    0.28 │    0.66 │   0.41 │ 0.46 │     0.03 │        5 │\n",
       "│ other               │    0.43 │    1.05 │   0.58 │ 0.72 │     0.07 │        5 │\n",
       "│ normal              │    0.18 │    2.26 │   0.35 │ 0.59 │     0.31 │       30 │\n",
       "└─────────────────────┴─────────┴─────────┴────────┴──────┴──────────┴──────────┘\n",
       "</pre>\n"
      ],
      "text/plain": [
       "\u001b[3m                    Statistics of Anomaly Scores per categroy                    \u001b[0m\n",
       "┏━━━━━━━━━━━━━━━━━━━━━┳━━━━━━━━━┳━━━━━━━━━┳━━━━━━━━┳━━━━━━┳━━━━━━━━━━┳━━━━━━━━━━┓\n",
       "┃\u001b[1m \u001b[0m\u001b[1mPathology          \u001b[0m\u001b[1m \u001b[0m┃\u001b[1m \u001b[0m\u001b[1mMinimum\u001b[0m\u001b[1m \u001b[0m┃\u001b[1m \u001b[0m\u001b[1mMaximum\u001b[0m\u001b[1m \u001b[0m┃\u001b[1m \u001b[0m\u001b[1mMedian\u001b[0m\u001b[1m \u001b[0m┃\u001b[1m \u001b[0m\u001b[1mMean\u001b[0m\u001b[1m \u001b[0m┃\u001b[1m \u001b[0m\u001b[1mVariance\u001b[0m\u001b[1m \u001b[0m┃\u001b[1m \u001b[0m\u001b[1m#Samples\u001b[0m\u001b[1m \u001b[0m┃\n",
       "┡━━━━━━━━━━━━━━━━━━━━━╇━━━━━━━━━╇━━━━━━━━━╇━━━━━━━━╇━━━━━━╇━━━━━━━━━━╇━━━━━━━━━━┩\n",
       "│ absent_septum       │    0.67 │    0.67 │   0.67 │ 0.67 │     0.00 │        1 │\n",
       "│ artefacts           │    0.24 │    0.68 │   0.35 │ 0.36 │     0.01 │       16 │\n",
       "│ craniatomy          │    0.22 │    2.39 │   0.50 │ 0.63 │     0.25 │       15 │\n",
       "│ dural               │    0.21 │    1.10 │   0.67 │ 0.63 │     0.10 │        7 │\n",
       "│ ea_mass             │    0.61 │    1.11 │   1.07 │ 0.97 │     0.04 │        4 │\n",
       "│ edema               │    0.31 │    3.63 │   0.58 │ 0.76 │     0.51 │       18 │\n",
       "│ encephalomalacia    │    2.32 │    2.32 │   2.32 │ 2.32 │     0.00 │        1 │\n",
       "│ enlarged_ventricles │    0.27 │    2.26 │   0.49 │ 0.73 │     0.35 │       19 │\n",
       "│ intraventricular    │    0.63 │    0.63 │   0.63 │ 0.63 │     0.00 │        1 │\n",
       "│ lesions             │    0.28 │    1.14 │   0.42 │ 0.56 │     0.08 │       22 │\n",
       "│ mass                │    0.35 │    1.15 │   0.54 │ 0.62 │     0.06 │       22 │\n",
       "│ posttreatment       │    0.24 │    3.32 │   0.47 │ 0.54 │     0.22 │       44 │\n",
       "│ resection           │    0.29 │    2.30 │   0.73 │ 0.98 │     0.52 │       10 │\n",
       "│ sinus               │    0.32 │    0.88 │   0.60 │ 0.60 │     0.08 │        2 │\n",
       "│ wml                 │    0.28 │    0.66 │   0.41 │ 0.46 │     0.03 │        5 │\n",
       "│ other               │    0.43 │    1.05 │   0.58 │ 0.72 │     0.07 │        5 │\n",
       "│ normal              │    0.18 │    2.26 │   0.35 │ 0.59 │     0.31 │       30 │\n",
       "└─────────────────────┴─────────┴─────────┴────────┴──────┴──────────┴──────────┘\n"
      ]
     },
     "metadata": {},
     "output_type": "display_data"
    }
   ],
   "source": [
    "from ganomaly_eval import  GanomalyEvaluator, EvalType\n",
    "normal_test_dataloader = get_normal_test_dataloader(config['split_dir'], config['target_size'], config['batch_size'])\n",
    "normal_and_abnormal = test_dataloaders.copy()\n",
    "normal_and_abnormal.update({\"normal\":normal_test_dataloader})\n",
    "\n",
    "\n",
    "evaluator = GanomalyEvaluator(model, normal_and_abnormal)\n",
    "\n",
    "evaluator.evaluate_model()"
   ]
  },
  {
   "cell_type": "code",
   "execution_count": 21,
   "metadata": {},
   "outputs": [
    {
     "data": {
      "image/png": "[encoded data removed]",
      "text/plain": [
       "<Figure size 640x480 with 1 Axes>"
      ]
     },
     "metadata": {},
     "output_type": "display_data"
    }
   ],
   "source": [
    "evaluator.histplot()"
   ]
  },
  {
   "cell_type": "code",
   "execution_count": 15,
   "metadata": {},
   "outputs": [],
   "source": [
    "evaluator.histplot(eval_type=EvalType.ABNORMAL)"
   ]
  },
  {
   "cell_type": "code",
   "execution_count": null,
   "metadata": {},
   "outputs": [],
   "source": [
    "# from evaluate import Evaluator \n",
    "\n",
    "# evaluator = Evaluator(model, model.device, test_dataloaders)\n",
    "\n",
    "# metrics, fig_metrics, fig_example = evaluator.evaluate()"
   ]
  },
  {
   "cell_type": "code",
   "execution_count": null,
   "metadata": {},
   "outputs": [],
   "source": [
    "# fig_metrics.keys()"
   ]
  },
  {
   "cell_type": "code",
   "execution_count": null,
   "metadata": {},
   "outputs": [],
   "source": [
    "# fig_metrics['F1']"
   ]
  },
  {
   "cell_type": "code",
   "execution_count": null,
   "metadata": {},
   "outputs": [],
   "source": [
    "# fig_example.savefig(f\"example_{config['num_epochs']}.png\")"
   ]
  }
 ],
 "metadata": {
  "kernelspec": {
   "display_name": "mad",
   "language": "python",
   "name": "python3"
  },
  "language_info": {
   "codemirror_mode": {
    "name": "ipython",
    "version": 3
   },
   "file_extension": ".py",
   "mimetype": "text/x-python",
   "name": "python",
   "nbconvert_exporter": "python",
   "pygments_lexer": "ipython3",
   "version": "3.9.18"
  }
 },
 "nbformat": 4,
 "nbformat_minor": 2
}
