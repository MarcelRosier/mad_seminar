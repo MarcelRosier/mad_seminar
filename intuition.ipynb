{
 "cells": [
  {
   "cell_type": "code",
   "execution_count": 1,
   "metadata": {},
   "outputs": [],
   "source": [
    "import torch\n",
    "from torchsummary import summary\n"
   ]
  },
  {
   "cell_type": "code",
   "execution_count": 2,
   "metadata": {},
   "outputs": [
    {
     "name": "stdout",
     "output_type": "stream",
     "text": [
      "----------------------------------------------------------------\n",
      "        Layer (type)               Output Shape         Param #\n",
      "================================================================\n",
      "            Conv2d-1           [-1, 64, 32, 32]             640\n",
      "       BatchNorm2d-2           [-1, 64, 32, 32]             128\n",
      "              ReLU-3           [-1, 64, 32, 32]               0\n",
      "            Conv2d-4          [-1, 128, 16, 16]          73,856\n",
      "       BatchNorm2d-5          [-1, 128, 16, 16]             256\n",
      "              ReLU-6          [-1, 128, 16, 16]               0\n",
      "            Conv2d-7            [-1, 256, 8, 8]         295,168\n",
      "       BatchNorm2d-8            [-1, 256, 8, 8]             512\n",
      "              ReLU-9            [-1, 256, 8, 8]               0\n",
      "          Flatten-10                [-1, 16384]               0\n",
      "           Linear-11                  [-1, 100]       1,638,500\n",
      "================================================================\n",
      "Total params: 2,009,060\n",
      "Trainable params: 2,009,060\n",
      "Non-trainable params: 0\n",
      "----------------------------------------------------------------\n",
      "Input size (MB): 0.02\n",
      "Forward/backward pass size (MB): 2.75\n",
      "Params size (MB): 7.66\n",
      "Estimated Total Size (MB): 10.43\n",
      "----------------------------------------------------------------\n"
     ]
    }
   ],
   "source": [
    "from model.ganomaly.custom_torch_model import (\n",
    "    CustomGanomalyModel,\n",
    "    Encoder,\n",
    "    Decoder,\n",
    "    Discriminator,\n",
    "    Generator,\n",
    ")\n",
    "CHANNELS_START = 64\n",
    "input_size = 64, 64\n",
    "# model = CustomGanomalyModel(\n",
    "#     input_size=input_size,\n",
    "#     num_input_channels=1,\n",
    "#     latent_vec_size=100,\n",
    "# ).to(\"cuda\")\n",
    "\n",
    "encoder = Encoder(\n",
    "    input_size=input_size,\n",
    "    latent_vec_size=100,\n",
    "    channels_start=CHANNELS_START,\n",
    ").to(\"cuda\")\n",
    "summary(encoder, (1, *input_size))\n"
   ]
  },
  {
   "cell_type": "code",
   "execution_count": 3,
   "metadata": {},
   "outputs": [
    {
     "name": "stdout",
     "output_type": "stream",
     "text": [
      "----------------------------------------------------------------\n",
      "        Layer (type)               Output Shape         Param #\n",
      "================================================================\n",
      "            Linear-1                [-1, 16384]       1,654,784\n",
      "       BatchNorm1d-2                [-1, 16384]          32,768\n",
      "              ReLU-3                [-1, 16384]               0\n",
      "         Unflatten-4            [-1, 256, 8, 8]               0\n",
      "   ConvTranspose2d-5          [-1, 128, 16, 16]         295,040\n",
      "       BatchNorm2d-6          [-1, 128, 16, 16]             256\n",
      "              ReLU-7          [-1, 128, 16, 16]               0\n",
      "   ConvTranspose2d-8           [-1, 64, 32, 32]          73,792\n",
      "       BatchNorm2d-9           [-1, 64, 32, 32]             128\n",
      "             ReLU-10           [-1, 64, 32, 32]               0\n",
      "  ConvTranspose2d-11            [-1, 1, 64, 64]             577\n",
      "             Tanh-12            [-1, 1, 64, 64]               0\n",
      "================================================================\n",
      "Total params: 2,057,345\n",
      "Trainable params: 2,057,345\n",
      "Non-trainable params: 0\n",
      "----------------------------------------------------------------\n",
      "Input size (MB): 0.00\n",
      "Forward/backward pass size (MB): 2.81\n",
      "Params size (MB): 7.85\n",
      "Estimated Total Size (MB): 10.66\n",
      "----------------------------------------------------------------\n"
     ]
    }
   ],
   "source": [
    "decoder = Decoder(\n",
    "    latent_vec_size=100,\n",
    "    conv_input_shape=encoder.conv_output_shape,\n",
    "    channels_start=CHANNELS_START,\n",
    ").to(\"cuda\")\n",
    "summary(decoder, (100,))"
   ]
  },
  {
   "cell_type": "code",
   "execution_count": 4,
   "metadata": {},
   "outputs": [
    {
     "name": "stdout",
     "output_type": "stream",
     "text": [
      "----------------------------------------------------------------\n",
      "        Layer (type)               Output Shape         Param #\n",
      "================================================================\n",
      "            Conv2d-1           [-1, 64, 32, 32]             640\n",
      "       BatchNorm2d-2           [-1, 64, 32, 32]             128\n",
      "              ReLU-3           [-1, 64, 32, 32]               0\n",
      "            Conv2d-4          [-1, 128, 16, 16]          73,856\n",
      "       BatchNorm2d-5          [-1, 128, 16, 16]             256\n",
      "              ReLU-6          [-1, 128, 16, 16]               0\n",
      "            Conv2d-7            [-1, 256, 8, 8]         295,168\n",
      "       BatchNorm2d-8            [-1, 256, 8, 8]             512\n",
      "              ReLU-9            [-1, 256, 8, 8]               0\n",
      "          Flatten-10                [-1, 16384]               0\n",
      "           Linear-11                  [-1, 100]       1,638,500\n",
      "          Encoder-12                  [-1, 100]               0\n",
      "           Linear-13                [-1, 16384]       1,654,784\n",
      "      BatchNorm1d-14                [-1, 16384]          32,768\n",
      "             ReLU-15                [-1, 16384]               0\n",
      "        Unflatten-16            [-1, 256, 8, 8]               0\n",
      "  ConvTranspose2d-17          [-1, 128, 16, 16]         295,040\n",
      "      BatchNorm2d-18          [-1, 128, 16, 16]             256\n",
      "             ReLU-19          [-1, 128, 16, 16]               0\n",
      "  ConvTranspose2d-20           [-1, 64, 32, 32]          73,792\n",
      "      BatchNorm2d-21           [-1, 64, 32, 32]             128\n",
      "             ReLU-22           [-1, 64, 32, 32]               0\n",
      "  ConvTranspose2d-23            [-1, 1, 64, 64]             577\n",
      "             Tanh-24            [-1, 1, 64, 64]               0\n",
      "          Decoder-25            [-1, 1, 64, 64]               0\n",
      "           Conv2d-26           [-1, 64, 32, 32]             640\n",
      "      BatchNorm2d-27           [-1, 64, 32, 32]             128\n",
      "             ReLU-28           [-1, 64, 32, 32]               0\n",
      "           Conv2d-29          [-1, 128, 16, 16]          73,856\n",
      "      BatchNorm2d-30          [-1, 128, 16, 16]             256\n",
      "             ReLU-31          [-1, 128, 16, 16]               0\n",
      "           Conv2d-32            [-1, 256, 8, 8]         295,168\n",
      "      BatchNorm2d-33            [-1, 256, 8, 8]             512\n",
      "             ReLU-34            [-1, 256, 8, 8]               0\n",
      "          Flatten-35                [-1, 16384]               0\n",
      "           Linear-36                  [-1, 100]       1,638,500\n",
      "          Encoder-37                  [-1, 100]               0\n",
      "================================================================\n",
      "Total params: 6,075,465\n",
      "Trainable params: 6,075,465\n",
      "Non-trainable params: 0\n",
      "----------------------------------------------------------------\n",
      "Input size (MB): 0.02\n",
      "Forward/backward pass size (MB): 8.35\n",
      "Params size (MB): 23.18\n",
      "Estimated Total Size (MB): 31.54\n",
      "----------------------------------------------------------------\n"
     ]
    }
   ],
   "source": [
    "generator = Generator(\n",
    "    input_size=(64,64),\n",
    "    latent_vec_size=100,\n",
    "    channels_start=CHANNELS_START,\n",
    ").to(\"cuda\")\n",
    "summary(generator, (1, 64,64))"
   ]
  },
  {
   "cell_type": "code",
   "execution_count": 5,
   "metadata": {},
   "outputs": [
    {
     "name": "stdout",
     "output_type": "stream",
     "text": [
      "----------------------------------------------------------------\n",
      "        Layer (type)               Output Shape         Param #\n",
      "================================================================\n",
      "            Conv2d-1           [-1, 64, 32, 32]             640\n",
      "       BatchNorm2d-2           [-1, 64, 32, 32]             128\n",
      "              ReLU-3           [-1, 64, 32, 32]               0\n",
      "            Conv2d-4          [-1, 128, 16, 16]          73,856\n",
      "       BatchNorm2d-5          [-1, 128, 16, 16]             256\n",
      "              ReLU-6          [-1, 128, 16, 16]               0\n",
      "            Conv2d-7            [-1, 256, 8, 8]         295,168\n",
      "       BatchNorm2d-8            [-1, 256, 8, 8]             512\n",
      "              ReLU-9            [-1, 256, 8, 8]               0\n",
      "          Flatten-10                [-1, 16384]               0\n",
      "           Linear-11                    [-1, 1]          16,385\n",
      "          Sigmoid-12                    [-1, 1]               0\n",
      "================================================================\n",
      "Total params: 386,945\n",
      "Trainable params: 386,945\n",
      "Non-trainable params: 0\n",
      "----------------------------------------------------------------\n",
      "Input size (MB): 0.02\n",
      "Forward/backward pass size (MB): 2.75\n",
      "Params size (MB): 1.48\n",
      "Estimated Total Size (MB): 4.24\n",
      "----------------------------------------------------------------\n"
     ]
    }
   ],
   "source": [
    "discriminator = Discriminator(\n",
    "    input_size=(64, 64),\n",
    "    channels_start=CHANNELS_START,\n",
    ").to(\"cuda\")\n",
    "summary(discriminator, (1, 64, 64))"
   ]
  }
 ],
 "metadata": {
  "kernelspec": {
   "display_name": "mad",
   "language": "python",
   "name": "python3"
  },
  "language_info": {
   "codemirror_mode": {
    "name": "ipython",
    "version": 3
   },
   "file_extension": ".py",
   "mimetype": "text/x-python",
   "name": "python",
   "nbconvert_exporter": "python",
   "pygments_lexer": "ipython3",
   "version": "3.9.18"
  }
 },
 "nbformat": 4,
 "nbformat_minor": 2
}
